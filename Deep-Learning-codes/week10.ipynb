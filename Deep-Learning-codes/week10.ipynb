{
  "nbformat": 4,
  "nbformat_minor": 0,
  "metadata": {
    "colab": {
      "provenance": []
    },
    "kernelspec": {
      "name": "python3",
      "display_name": "Python 3"
    },
    "language_info": {
      "name": "python"
    }
  },
  "cells": [
    {
      "cell_type": "code",
      "execution_count": 3,
      "metadata": {
        "colab": {
          "base_uri": "https://localhost:8080/"
        },
        "id": "xcqUFGglf8Bm",
        "outputId": "2cba20ee-27de-4a44-d995-33727a0c5877"
      },
      "outputs": [
        {
          "output_type": "stream",
          "name": "stdout",
          "text": [
            "Model: \"sequential_2\"\n",
            "_________________________________________________________________\n",
            " Layer (type)                Output Shape              Param #   \n",
            "=================================================================\n",
            " conv2d_4 (Conv2D)           (None, 16, 16, 32)        2432      \n",
            "                                                                 \n",
            " activation_8 (Activation)   (None, 16, 16, 32)        0         \n",
            "                                                                 \n",
            " conv2d_5 (Conv2D)           (None, 6, 6, 32)          25632     \n",
            "                                                                 \n",
            " activation_9 (Activation)   (None, 6, 6, 32)          0         \n",
            "                                                                 \n",
            " max_pooling2d_2 (MaxPoolin  (None, 3, 3, 32)          0         \n",
            " g2D)                                                            \n",
            "                                                                 \n",
            " dropout_4 (Dropout)         (None, 3, 3, 32)          0         \n",
            "                                                                 \n",
            " flatten_2 (Flatten)         (None, 288)               0         \n",
            "                                                                 \n",
            " dense_4 (Dense)             (None, 512)               147968    \n",
            "                                                                 \n",
            " activation_10 (Activation)  (None, 512)               0         \n",
            "                                                                 \n",
            " dropout_5 (Dropout)         (None, 512)               0         \n",
            "                                                                 \n",
            " dense_5 (Dense)             (None, 10)                5130      \n",
            "                                                                 \n",
            " activation_11 (Activation)  (None, 10)                0         \n",
            "                                                                 \n",
            "=================================================================\n",
            "Total params: 181162 (707.66 KB)\n",
            "Trainable params: 181162 (707.66 KB)\n",
            "Non-trainable params: 0 (0.00 Byte)\n",
            "_________________________________________________________________\n"
          ]
        },
        {
          "output_type": "stream",
          "name": "stderr",
          "text": [
            "/usr/local/lib/python3.10/dist-packages/keras/src/optimizers/legacy/rmsprop.py:144: UserWarning: The `lr` argument is deprecated, use `learning_rate` instead.\n",
            "  super().__init__(name, **kwargs)\n"
          ]
        },
        {
          "output_type": "stream",
          "name": "stdout",
          "text": [
            "Epoch 1/5\n",
            "1562/1562 [==============================] - 58s 36ms/step - loss: 1.7919 - accuracy: 0.3403 - val_loss: 1.4535 - val_accuracy: 0.4714\n",
            "Epoch 2/5\n",
            "1562/1562 [==============================] - 55s 35ms/step - loss: 1.5419 - accuracy: 0.4409 - val_loss: 1.3663 - val_accuracy: 0.5172\n",
            "Epoch 3/5\n",
            "1562/1562 [==============================] - 57s 36ms/step - loss: 1.4576 - accuracy: 0.4730 - val_loss: 1.2627 - val_accuracy: 0.5575\n",
            "Epoch 4/5\n",
            "1562/1562 [==============================] - 55s 35ms/step - loss: 1.3952 - accuracy: 0.4996 - val_loss: 1.2339 - val_accuracy: 0.5601\n",
            "Epoch 5/5\n",
            "1562/1562 [==============================] - 59s 37ms/step - loss: 1.3616 - accuracy: 0.5156 - val_loss: 1.1832 - val_accuracy: 0.5768\n",
            "313/313 [==============================] - 2s 6ms/step - loss: 1.1832 - accuracy: 0.5768\n",
            "Test loss 1.1831785440444946\n",
            "Test accuracy 0.5767999887466431\n"
          ]
        }
      ],
      "source": [
        "from __future__ import print_function\n",
        "import tensorflow as tf\n",
        "from tensorflow import keras\n",
        "from tensorflow.keras.datasets import cifar10\n",
        "from tensorflow.keras.preprocessing.image import ImageDataGenerator\n",
        "from tensorflow.keras.models import Sequential\n",
        "from tensorflow.keras.layers import Dense, Dropout, Activation, Flatten\n",
        "from tensorflow.keras.layers import Conv2D, MaxPooling2D\n",
        "import matplotlib.pyplot as plt\n",
        "%matplotlib inline\n",
        "\n",
        "(x_train, y_train), (x_test, y_test) = cifar10.load_data()\n",
        "num_classes = 10\n",
        "y_train = tf.keras.utils.to_categorical(y_train, num_classes)\n",
        "y_test = tf.keras.utils.to_categorical(y_test, num_classes)\n",
        "x_train = x_train.astype('float32')\n",
        "x_test = x_test.astype('float32')\n",
        "x_train /= 255\n",
        "x_test /= 255\n",
        "\n",
        "model_1 = Sequential()\n",
        "model_1.add(Conv2D(32, (5, 5), strides=(2, 2), padding='same', input_shape=x_train.shape[1:]))\n",
        "model_1.add(Activation('relu'))\n",
        "model_1.add(Conv2D(32, (5, 5), strides=(2, 2)))\n",
        "model_1.add(Activation('relu'))\n",
        "model_1.add(MaxPooling2D(pool_size=(2, 2)))\n",
        "model_1.add(Dropout(0.25))\n",
        "model_1.add(Flatten())\n",
        "model_1.add(Dense(512))\n",
        "model_1.add(Activation('relu'))\n",
        "model_1.add(Dropout(0.5))\n",
        "model_1.add(Dense(num_classes))\n",
        "model_1.add(Activation('softmax'))\n",
        "model_1.summary()\n",
        "batch_size = 32\n",
        "opt = tf.keras.optimizers.legacy.RMSprop(lr=0.0005, decay=1e-6)\n",
        "model_1.compile(loss='categorical_crossentropy', optimizer=opt, metrics=['accuracy'])\n",
        "\n",
        "datagen = ImageDataGenerator(\n",
        "    featurewise_center=False,\n",
        "    samplewise_center=False,\n",
        "    featurewise_std_normalization=False,\n",
        "    samplewise_std_normalization=False,\n",
        "    zca_whitening=False,\n",
        "    rotation_range=0,\n",
        "    width_shift_range=0.1,\n",
        "    height_shift_range=0.1,\n",
        "    horizontal_flip=True,\n",
        "    vertical_flip=False\n",
        ")\n",
        "\n",
        "datagen.fit(x_train)\n",
        "\n",
        "model_1.fit(datagen.flow(x_train, y_train, batch_size=batch_size), steps_per_epoch=x_train.shape[0] // batch_size, epochs=5, validation_data=(x_test, y_test))\n",
        "test_loss, test_acc = model_1.evaluate(x_test, y_test)\n",
        "\n",
        "print('Test loss', test_loss)\n",
        "print('Test accuracy', test_acc)\n"
      ]
    }
  ]
}