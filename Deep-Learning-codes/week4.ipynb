{
  "nbformat": 4,
  "nbformat_minor": 0,
  "metadata": {
    "colab": {
      "provenance": []
    },
    "kernelspec": {
      "name": "python3",
      "display_name": "Python 3"
    },
    "language_info": {
      "name": "python"
    }
  },
  "cells": [
    {
      "cell_type": "code",
      "execution_count": 2,
      "metadata": {
        "id": "lwTduugYLth8"
      },
      "outputs": [],
      "source": [
        "import tensorflow as tf\n",
        "from tensorflow import keras\n",
        "from keras.models import Sequential\n",
        "from keras import Input\n",
        "from keras.layers import Dense\n",
        "import pandas as pd\n",
        "import numpy as np\n",
        "import sklearn\n",
        "from sklearn.metrics import classification_report\n",
        "import matplotlib\n",
        "import matplotlib.pyplot as plt"
      ]
    },
    {
      "cell_type": "code",
      "source": [
        "(X_train,y_train),(X_test,y_test) = keras.datasets.mnist.load_data()"
      ],
      "metadata": {
        "id": "9XaRErknNJg6"
      },
      "execution_count": 6,
      "outputs": []
    },
    {
      "cell_type": "code",
      "source": [
        "print(X_train.shape)"
      ],
      "metadata": {
        "colab": {
          "base_uri": "https://localhost:8080/"
        },
        "id": "0jszSglqNqZ2",
        "outputId": "6cd5dd48-9559-4fcc-885d-d46d90e43efc"
      },
      "execution_count": 8,
      "outputs": [
        {
          "output_type": "stream",
          "name": "stdout",
          "text": [
            "(60000, 28, 28)\n"
          ]
        }
      ]
    },
    {
      "cell_type": "code",
      "source": [
        "print(X_test.shape)"
      ],
      "metadata": {
        "colab": {
          "base_uri": "https://localhost:8080/"
        },
        "id": "6y8EYqqoODJF",
        "outputId": "a500e817-bb04-455b-bb05-27610d176f0f"
      },
      "execution_count": 9,
      "outputs": [
        {
          "output_type": "stream",
          "name": "stdout",
          "text": [
            "(10000, 28, 28)\n"
          ]
        }
      ]
    },
    {
      "cell_type": "code",
      "source": [
        "print(y_train.shape)"
      ],
      "metadata": {
        "colab": {
          "base_uri": "https://localhost:8080/"
        },
        "id": "KmcCbUPFOhdG",
        "outputId": "c8f0553a-151f-4efb-d73e-d89730ab4996"
      },
      "execution_count": 10,
      "outputs": [
        {
          "output_type": "stream",
          "name": "stdout",
          "text": [
            "(60000,)\n"
          ]
        }
      ]
    },
    {
      "cell_type": "code",
      "source": [
        "print(y_test.shape)"
      ],
      "metadata": {
        "colab": {
          "base_uri": "https://localhost:8080/"
        },
        "id": "B3kugHlXOlht",
        "outputId": "84429a39-c56f-4c6d-cb79-a17403b67f58"
      },
      "execution_count": 11,
      "outputs": [
        {
          "output_type": "stream",
          "name": "stdout",
          "text": [
            "(10000,)\n"
          ]
        }
      ]
    },
    {
      "cell_type": "code",
      "source": [
        "fig, axs = plt.subplots(2, 5, sharey=False, tight_layout=True, figsize=(12,6), facecolor='white')"
      ],
      "metadata": {
        "colab": {
          "base_uri": "https://localhost:8080/",
          "height": 592
        },
        "id": "6-IJkl0wOnvD",
        "outputId": "9caddf9f-f038-4c9b-9dda-9bf6064a3258"
      },
      "execution_count": 12,
      "outputs": [
        {
          "output_type": "display_data",
          "data": {
            "text/plain": [
              "<Figure size 1200x600 with 10 Axes>"
            ],
            "image/png": "[encoded data removed]"
          },
          "metadata": {}
        }
      ]
    },
    {
      "cell_type": "code",
      "source": [
        "n=0\n",
        "for i in range(0,2):\n",
        "  for j in range(0,5):\n",
        "    axs[i,j].matshow(X_train[n])\n",
        "    axs[i,j].set(title=y_train[n])\n",
        "    n+=1\n",
        "plt.show()"
      ],
      "metadata": {
        "id": "dYkSLhIsOr7e"
      },
      "execution_count": 13,
      "outputs": []
    },
    {
      "cell_type": "code",
      "source": [
        "X_train = X_train.reshape(60000, 784).astype(\"float32\") / 255"
      ],
      "metadata": {
        "id": "QhtiDhJsPF6K"
      },
      "execution_count": 14,
      "outputs": []
    },
    {
      "cell_type": "code",
      "source": [
        "X_test = X_test.reshape(10000, 784).astype(\"float32\") / 255"
      ],
      "metadata": {
        "id": "mHnLMYE0PLe0"
      },
      "execution_count": 15,
      "outputs": []
    },
    {
      "cell_type": "code",
      "source": [
        "print(X_train.shape)"
      ],
      "metadata": {
        "colab": {
          "base_uri": "https://localhost:8080/"
        },
        "id": "GkH1oGpLPNjH",
        "outputId": "2e7e4365-8f89-43bf-e816-3657492c273e"
      },
      "execution_count": 18,
      "outputs": [
        {
          "output_type": "stream",
          "name": "stdout",
          "text": [
            "(60000, 784)\n"
          ]
        }
      ]
    },
    {
      "cell_type": "code",
      "source": [
        "print(X_test.shape)"
      ],
      "metadata": {
        "colab": {
          "base_uri": "https://localhost:8080/"
        },
        "id": "UI2wp_-APRbh",
        "outputId": "1574e37a-8c1a-4eea-ac53-6f42ffaeb347"
      },
      "execution_count": 19,
      "outputs": [
        {
          "output_type": "stream",
          "name": "stdout",
          "text": [
            "(10000, 784)\n"
          ]
        }
      ]
    },
    {
      "cell_type": "code",
      "source": [
        "model = Sequential(name=\"DFF-Model\")\n",
        "model.add(Input(shape=(784,), name='Input-Layer'))\n",
        "\n",
        "model.add(Dense(128, activation='relu', name='Hidden-Layer-1', kernel_initializer='HeNormal'))\n",
        "model.add(Dense(64, activation='relu', name='Hidden-Layer-2', kernel_initializer='HeNormal'))\n",
        "model.add(Dense(32, activation='relu', name='Hidden-Layer-3', kernel_initializer='HeNormal'))\n",
        "model.add(Dense(10, activation='softmax', name='Output-Layer'))\n",
        "model.compile(optimizer='adam', loss='SparseCategoricalCrossentropy', metrics=['Accuracy'], loss_weights=None, weighted_metrics=None, run_eagerly=None, steps_per_execution=None)\n",
        "model.fit(X_train, y_train, batch_size=10, epochs=5, verbose='auto', callbacks=None, validation_split=0.2, shuffle=True, class_weight=None, sample_weight=None, initial_epoch=0, steps_per_epoch=None, validation_steps=None, validation_batch_size=None, validation_freq=5, max_queue_size=10, workers=1, use_multiprocessing=False,)\n",
        "pred_labels_tr = np.array(tf.math.argmax(model.predict(X_train),axis=1))\n",
        "pred_labels_te = np.array(tf.math.argmax(model.predict(X_test),axis=1))\n",
        "model.summary()\n",
        "print(classification_report(y_train, pred_labels_tr))\n",
        "print(classification_report(y_test, pred_labels_te))"
      ],
      "metadata": {
        "colab": {
          "base_uri": "https://localhost:8080/"
        },
        "id": "m15whkkTPUoi",
        "outputId": "bad9dc4a-5e49-4e83-820b-883537e32029"
      },
      "execution_count": 20,
      "outputs": [
        {
          "output_type": "stream",
          "name": "stdout",
          "text": [
            "Epoch 1/5\n",
            "4800/4800 [==============================] - 18s 3ms/step - loss: 0.2447 - Accuracy: 0.9258\n",
            "Epoch 2/5\n",
            "4800/4800 [==============================] - 13s 3ms/step - loss: 0.1153 - Accuracy: 0.9653\n",
            "Epoch 3/5\n",
            "4800/4800 [==============================] - 14s 3ms/step - loss: 0.0831 - Accuracy: 0.9743\n",
            "Epoch 4/5\n",
            "4800/4800 [==============================] - 13s 3ms/step - loss: 0.0685 - Accuracy: 0.9794\n",
            "Epoch 5/5\n",
            "4800/4800 [==============================] - 17s 4ms/step - loss: 0.0536 - Accuracy: 0.9836 - val_loss: 0.1408 - val_Accuracy: 0.9613\n",
            "1875/1875 [==============================] - 3s 1ms/step\n",
            "313/313 [==============================] - 1s 2ms/step\n",
            "Model: \"DFF-Model\"\n",
            "_________________________________________________________________\n",
            " Layer (type)                Output Shape              Param #   \n",
            "=================================================================\n",
            " Hidden-Layer-1 (Dense)      (None, 128)               100480    \n",
            "                                                                 \n",
            " Hidden-Layer-2 (Dense)      (None, 64)                8256      \n",
            "                                                                 \n",
            " Hidden-Layer-3 (Dense)      (None, 32)                2080      \n",
            "                                                                 \n",
            " Output-Layer (Dense)        (None, 10)                330       \n",
            "                                                                 \n",
            "=================================================================\n",
            "Total params: 111146 (434.16 KB)\n",
            "Trainable params: 111146 (434.16 KB)\n",
            "Non-trainable params: 0 (0.00 Byte)\n",
            "_________________________________________________________________\n",
            "              precision    recall  f1-score   support\n",
            "\n",
            "           0       0.98      1.00      0.99      5923\n",
            "           1       1.00      0.99      0.99      6742\n",
            "           2       0.98      0.97      0.98      5958\n",
            "           3       1.00      0.90      0.95      6131\n",
            "           4       0.99      0.97      0.98      5842\n",
            "           5       0.92      0.99      0.95      5421\n",
            "           6       0.99      0.99      0.99      5918\n",
            "           7       0.99      0.98      0.99      6265\n",
            "           8       0.96      0.99      0.97      5851\n",
            "           9       0.95      0.98      0.97      5949\n",
            "\n",
            "    accuracy                           0.98     60000\n",
            "   macro avg       0.98      0.98      0.98     60000\n",
            "weighted avg       0.98      0.98      0.98     60000\n",
            "\n",
            "              precision    recall  f1-score   support\n",
            "\n",
            "           0       0.96      0.99      0.98       980\n",
            "           1       0.99      0.99      0.99      1135\n",
            "           2       0.97      0.95      0.96      1032\n",
            "           3       0.99      0.88      0.94      1010\n",
            "           4       0.98      0.95      0.97       982\n",
            "           5       0.89      0.98      0.93       892\n",
            "           6       0.99      0.97      0.98       958\n",
            "           7       0.98      0.96      0.97      1028\n",
            "           8       0.94      0.97      0.95       974\n",
            "           9       0.93      0.97      0.95      1009\n",
            "\n",
            "    accuracy                           0.96     10000\n",
            "   macro avg       0.96      0.96      0.96     10000\n",
            "weighted avg       0.96      0.96      0.96     10000\n",
            "\n"
          ]
        }
      ]
    },
    {
      "cell_type": "code",
      "source": [],
      "metadata": {
        "id": "ip8Gsn9dQgoz"
      },
      "execution_count": null,
      "outputs": []
    }
  ]
}