{
  "cells": [
    {
      "cell_type": "code",
      "execution_count": 3,
      "metadata": {
        "colab": {
          "base_uri": "https://localhost:8080/",
          "height": 621
        },
        "id": "Y-ON7Rq0sLB-",
        "outputId": "65371983-3def-45b2-a48b-e3953e800e47"
      },
      "outputs": [
        {
          "name": "stdout",
          "output_type": "stream",
          "text": [
            "[[2. 2.]]\n",
            "[-2.]\n",
            "[[2. 2.]]\n",
            "[-1.]\n",
            "[[0. 0.]]\n",
            "[0.]\n",
            "[[-2.]]\n",
            "[1.]\n",
            "[[0. 0.]]\n",
            "[0.]\n"
          ]
        },
        {
          "data": {
            "text/plain": [
              "<Axes: >"
            ]
          },
          "execution_count": 3,
          "metadata": {},
          "output_type": "execute_result"
        },
        {
          "data": {
            "image/png": "[encoded data removed]",
            "text/plain": [
              "<Figure size 640x480 with 1 Axes>"
            ]
          },
          "metadata": {},
          "output_type": "display_data"
        }
      ],
      "source": [
        "import numpy as np\n",
        "import pandas as pd\n",
        "import matplotlib.pyplot as plt\n",
        "from sklearn.linear_model import Perceptron\n",
        "from mlxtend.plotting import plot_decision_regions\n",
        "import seaborn as sns\n",
        "\n",
        "or_data = pd.DataFrame()\n",
        "and_data = pd.DataFrame()\n",
        "xor_data = pd.DataFrame()\n",
        "not_data = pd.DataFrame()\n",
        "xnor_data = pd.DataFrame()\n",
        "# or table\n",
        "or_data['input1'] = [1, 1, 0, 0]\n",
        "or_data['input2'] = [1, 0, 1, 0]\n",
        "or_data['output'] = [1, 1, 1, 0]\n",
        "# and table\n",
        "and_data['input1'] = [1, 1, 0, 0]\n",
        "and_data['input2'] = [1, 0, 1, 0]\n",
        "and_data['output'] = [1, 0, 0, 0]\n",
        "# xnor table\n",
        "xor_data['input1'] = [1, 1, 0, 0]\n",
        "xor_data['input2'] = [1, 0, 1, 0]\n",
        "xor_data['output'] = [0, 1, 1, 0]\n",
        "# not table\n",
        "not_data['input1'] = [1, 0]\n",
        "not_data['output'] = [0, 1]\n",
        "# xnor table\n",
        "xnor_data['input1'] = [1, 1, 0, 0]\n",
        "xnor_data['input2'] = [1, 0, 1, 0]\n",
        "xnor_data['output'] = [1, 0, 0, 1]\n",
        "\n",
        "clf1 = Perceptron()\n",
        "clf2 = Perceptron()\n",
        "clf3 = Perceptron()\n",
        "clf4 = Perceptron()\n",
        "clf5 = Perceptron()\n",
        "\n",
        "clf1.fit(and_data.iloc[:, 0:2].values, and_data.iloc[:, -1].values)\n",
        "clf2.fit(or_data.iloc[:, 0:2].values, or_data.iloc[:, -1].values)\n",
        "clf3.fit(xor_data.iloc[:, 0:2].values, xor_data.iloc[:, -1].values)\n",
        "clf4.fit(not_data.iloc[:, 0:1].values, not_data.iloc[:, -1].values)\n",
        "clf5.fit(xnor_data.iloc[:, 0:2].values, xnor_data.iloc[:, -1].values)\n",
        "\n",
        "print(clf1.coef_)\n",
        "print(clf1.intercept_)\n",
        "x = np.linspace(-1,1,5)\n",
        "y = -x+1\n",
        "plt.plot(x,y)\n",
        "\n",
        "print(clf2.coef_)\n",
        "print(clf2.intercept_)\n",
        "x1 = np.linspace(-1,1,5)\n",
        "y1 = -x+0.5\n",
        "plt.plot(x1,y1)\n",
        "\n",
        "print(clf3.coef_)\n",
        "print(clf3.intercept_)\n",
        "plot_decision_regions(xor_data.iloc[:,0:2].values,xor_data.iloc[:,-1].values, clf=clf3, legend=2)\n",
        "\n",
        "print(clf4.coef_)\n",
        "print(clf4.intercept_)\n",
        "plot_decision_regions(not_data.iloc[:,0:1].values,not_data.iloc[:,-1].values, clf=clf4, legend=2)\n",
        "\n",
        "print(clf5.coef_)\n",
        "print(clf5.intercept_)\n",
        "plot_decision_regions(xnor_data.iloc[:,0:2].values,xnor_data.iloc[:,-1].values, clf=clf5, legend=2)"
      ]
    },
    {
      "cell_type": "code",
      "execution_count": 2,
      "metadata": {},
      "outputs": [
        {
          "name": "stdout",
          "output_type": "stream",
          "text": [
            "Collecting mlxtend\n",
            "  Downloading mlxtend-0.22.0-py2.py3-none-any.whl (1.4 MB)\n",
            "     ---------------------------------------- 0.0/1.4 MB ? eta -:--:--\n",
            "     --- ------------------------------------ 0.1/1.4 MB 3.6 MB/s eta 0:00:01\n",
            "     ------------------ --------------------- 0.6/1.4 MB 7.7 MB/s eta 0:00:01\n",
            "     ------------------------- -------------- 0.9/1.4 MB 6.8 MB/s eta 0:00:01\n",
            "     ------------------------------------ --- 1.2/1.4 MB 7.1 MB/s eta 0:00:01\n",
            "     ---------------------------------------- 1.4/1.4 MB 7.2 MB/s eta 0:00:00\n",
            "Requirement already satisfied: scipy>=1.2.1 in c:\\users\\rajin\\appdata\\local\\programs\\python\\python311\\lib\\site-packages (from mlxtend) (1.11.2)\n",
            "Requirement already satisfied: numpy>=1.16.2 in c:\\users\\rajin\\appdata\\local\\programs\\python\\python311\\lib\\site-packages (from mlxtend) (1.24.3)\n",
            "Requirement already satisfied: pandas>=0.24.2 in c:\\users\\rajin\\appdata\\local\\programs\\python\\python311\\lib\\site-packages (from mlxtend) (2.1.0)\n",
            "Requirement already satisfied: scikit-learn>=1.0.2 in c:\\users\\rajin\\appdata\\local\\programs\\python\\python311\\lib\\site-packages (from mlxtend) (1.3.0)\n",
            "Requirement already satisfied: matplotlib>=3.0.0 in c:\\users\\rajin\\appdata\\local\\programs\\python\\python311\\lib\\site-packages (from mlxtend) (3.7.2)\n",
            "Requirement already satisfied: joblib>=0.13.2 in c:\\users\\rajin\\appdata\\local\\programs\\python\\python311\\lib\\site-packages (from mlxtend) (1.3.2)\n",
            "Requirement already satisfied: setuptools in c:\\users\\rajin\\appdata\\local\\programs\\python\\python311\\lib\\site-packages (from mlxtend) (65.5.0)\n",
            "Requirement already satisfied: contourpy>=1.0.1 in c:\\users\\rajin\\appdata\\local\\programs\\python\\python311\\lib\\site-packages (from matplotlib>=3.0.0->mlxtend) (1.1.0)\n",
            "Requirement already satisfied: cycler>=0.10 in c:\\users\\rajin\\appdata\\local\\programs\\python\\python311\\lib\\site-packages (from matplotlib>=3.0.0->mlxtend) (0.11.0)\n",
            "Requirement already satisfied: fonttools>=4.22.0 in c:\\users\\rajin\\appdata\\local\\programs\\python\\python311\\lib\\site-packages (from matplotlib>=3.0.0->mlxtend) (4.42.1)\n",
            "Requirement already satisfied: kiwisolver>=1.0.1 in c:\\users\\rajin\\appdata\\local\\programs\\python\\python311\\lib\\site-packages (from matplotlib>=3.0.0->mlxtend) (1.4.5)\n",
            "Requirement already satisfied: packaging>=20.0 in c:\\users\\rajin\\appdata\\local\\programs\\python\\python311\\lib\\site-packages (from matplotlib>=3.0.0->mlxtend) (23.1)\n",
            "Requirement already satisfied: pillow>=6.2.0 in c:\\users\\rajin\\appdata\\local\\programs\\python\\python311\\lib\\site-packages (from matplotlib>=3.0.0->mlxtend) (9.5.0)\n",
            "Requirement already satisfied: pyparsing<3.1,>=2.3.1 in c:\\users\\rajin\\appdata\\local\\programs\\python\\python311\\lib\\site-packages (from matplotlib>=3.0.0->mlxtend) (3.0.9)\n",
            "Requirement already satisfied: python-dateutil>=2.7 in c:\\users\\rajin\\appdata\\local\\programs\\python\\python311\\lib\\site-packages (from matplotlib>=3.0.0->mlxtend) (2.8.2)\n",
            "Requirement already satisfied: pytz>=2020.1 in c:\\users\\rajin\\appdata\\local\\programs\\python\\python311\\lib\\site-packages (from pandas>=0.24.2->mlxtend) (2023.3.post1)\n",
            "Requirement already satisfied: tzdata>=2022.1 in c:\\users\\rajin\\appdata\\local\\programs\\python\\python311\\lib\\site-packages (from pandas>=0.24.2->mlxtend) (2023.3)\n",
            "Requirement already satisfied: threadpoolctl>=2.0.0 in c:\\users\\rajin\\appdata\\local\\programs\\python\\python311\\lib\\site-packages (from scikit-learn>=1.0.2->mlxtend) (3.2.0)\n",
            "Requirement already satisfied: six>=1.5 in c:\\users\\rajin\\appdata\\local\\programs\\python\\python311\\lib\\site-packages (from python-dateutil>=2.7->matplotlib>=3.0.0->mlxtend) (1.16.0)\n",
            "Installing collected packages: mlxtend\n",
            "Successfully installed mlxtend-0.22.0\n",
            "Note: you may need to restart the kernel to use updated packages.\n"
          ]
        }
      ],
      "source": [
        "pip install mlxtend"
      ]
    }
  ],
  "metadata": {
    "colab": {
      "provenance": []
    },
    "kernelspec": {
      "display_name": "Python 3",
      "name": "python3"
    },
    "language_info": {
      "codemirror_mode": {
        "name": "ipython",
        "version": 3
      },
      "file_extension": ".py",
      "mimetype": "text/x-python",
      "name": "python",
      "nbconvert_exporter": "python",
      "pygments_lexer": "ipython3",
      "version": "3.11.5"
    }
  },
  "nbformat": 4,
  "nbformat_minor": 0
}
